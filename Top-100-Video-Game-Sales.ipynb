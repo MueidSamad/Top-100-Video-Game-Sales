{
 "cells": [
  {
   "cell_type": "code",
   "execution_count": null,
   "id": "d9ce28df",
   "metadata": {},
   "outputs": [],
   "source": [
    "from itertools import groupby\n",
    "import pandas as pd\n",
    "import seaborn as sns\n",
    "import csv\n",
    "import matplotlib.pyplot as plt"
   ]
  },
  {
   "cell_type": "code",
   "execution_count": null,
   "id": "d5b0a6e7",
   "metadata": {},
   "outputs": [],
   "source": [
    "# For MatPlotLib\n",
    "input_file = 'top100videogamesales.csv'\n",
    "plt.figure(figsize=(7, 4.25))\n",
    "with open(input_file, 'r') as sales_data:\n",
    "    sales_lib = list(csv.reader(sales_data))\n",
    "sales_lib.pop()"
   ]
  },
  {
   "cell_type": "code",
   "execution_count": null,
   "id": "ba281043",
   "metadata": {},
   "outputs": [],
   "source": [
    "# For Seaborn \n",
    "sns.set_theme(context='notebook', style='darkgrid', palette='deep', font_scale=1)\n",
    "sales = pd.read_csv('top100videogamesales.csv')\n",
    "sns.set(rc={\"figure.figsize\":(23, 10)}) #width, #height"
   ]
  },
  {
   "cell_type": "code",
   "execution_count": null,
   "id": "314ddf46",
   "metadata": {},
   "outputs": [],
   "source": [
    "# For Pandas\n",
    "pandas = pd.read_csv('top100videogamesales.csv')\n",
    "\n",
    "sales.head()"
   ]
  },
  {
   "cell_type": "markdown",
   "id": "a9dd3b7d",
   "metadata": {},
   "source": [
    "# Regional Sales by Publisher"
   ]
  },
  {
   "cell_type": "markdown",
   "id": "03e562b9",
   "metadata": {},
   "source": [
    "NA Sales"
   ]
  },
  {
   "cell_type": "code",
   "execution_count": null,
   "id": "4fe77377",
   "metadata": {},
   "outputs": [],
   "source": [
    "na_sales = pandas.groupby(['Publisher']).sum().plot(kind='bar', y='NA_Sales',stacked=True)"
   ]
  },
  {
   "cell_type": "markdown",
   "id": "a3c2cd55",
   "metadata": {},
   "source": [
    "Nintendo had the most NA Sales, while 505 Games and Saga had the least"
   ]
  },
  {
   "cell_type": "markdown",
   "id": "1c44e76a",
   "metadata": {},
   "source": [
    "EU Sales"
   ]
  },
  {
   "cell_type": "code",
   "execution_count": null,
   "id": "8b33f927",
   "metadata": {},
   "outputs": [],
   "source": [
    "eu_sales = pandas.groupby(['Publisher']).sum().plot(kind='bar', y='EU_Sales')"
   ]
  },
  {
   "cell_type": "markdown",
   "id": "cf401511",
   "metadata": {},
   "source": [
    "Nintendo Had the Most EU Sales while 505 Games had the least."
   ]
  },
  {
   "cell_type": "markdown",
   "id": "902e13de",
   "metadata": {},
   "source": [
    "Japenese Sales"
   ]
  },
  {
   "cell_type": "code",
   "execution_count": null,
   "id": "7424a065",
   "metadata": {},
   "outputs": [],
   "source": [
    "JP_sales = pandas.groupby(['Publisher']).sum().plot(kind='bar', y='JP_Sales')"
   ]
  },
  {
   "cell_type": "markdown",
   "id": "217bb130",
   "metadata": {},
   "source": [
    "Nintendo destroyed Japanese Sales. 505 Games and Ubisoft did not make the graph"
   ]
  },
  {
   "cell_type": "markdown",
   "id": "98277465",
   "metadata": {},
   "source": [
    "Other Sales"
   ]
  },
  {
   "cell_type": "code",
   "execution_count": null,
   "id": "4062b08d",
   "metadata": {},
   "outputs": [],
   "source": [
    "Other_sales = pandas.groupby(['Publisher']).sum().plot(kind='bar', y='Other_Sales')"
   ]
  },
  {
   "cell_type": "markdown",
   "id": "475be8ab",
   "metadata": {},
   "source": [
    "Nintendo again has had the most sales. 505 Games and Sega had the least."
   ]
  },
  {
   "cell_type": "markdown",
   "id": "e8ecd32e",
   "metadata": {},
   "source": [
    "Global Sales"
   ]
  },
  {
   "cell_type": "code",
   "execution_count": null,
   "id": "ec87bd38",
   "metadata": {},
   "outputs": [],
   "source": [
    "Global_sales = pandas.groupby(['Publisher']).sum().plot(kind='bar', y='Global_Sales')"
   ]
  },
  {
   "cell_type": "markdown",
   "id": "167f3c0d",
   "metadata": {},
   "source": [
    "Nintendo had the most global sales while 505 Games and Sega had the least"
   ]
  },
  {
   "cell_type": "markdown",
   "id": "3e565bf5",
   "metadata": {},
   "source": [
    "Sales by Year"
   ]
  },
  {
   "cell_type": "code",
   "execution_count": null,
   "id": "9dad8c46",
   "metadata": {},
   "outputs": [],
   "source": [
    "na_sales_year = pandas.groupby(['Year']).sum().plot(kind='line', y='NA_Sales')"
   ]
  },
  {
   "cell_type": "markdown",
   "id": "c25dbd26",
   "metadata": {},
   "source": [
    "2006 Had the most North America Sales while 2003 had the least. We are currently seing a decline after 2010"
   ]
  },
  {
   "cell_type": "code",
   "execution_count": null,
   "id": "446f8adf",
   "metadata": {},
   "outputs": [],
   "source": [
    "eu_sales_year = pandas.groupby(['Year']).sum().plot(kind='line', y='EU_Sales')"
   ]
  },
  {
   "cell_type": "markdown",
   "id": "5c489fe4",
   "metadata": {},
   "source": [
    "2006 and 2009 saw the most sales. 2003 had the least sales, but sales seem to be steady after 2014"
   ]
  }
 ],
 "metadata": {
  "kernelspec": {
   "display_name": "Python 3 (ipykernel)",
   "language": "python",
   "name": "python3"
  },
  "language_info": {
   "codemirror_mode": {
    "name": "ipython",
    "version": 3
   },
   "file_extension": ".py",
   "mimetype": "text/x-python",
   "name": "python",
   "nbconvert_exporter": "python",
   "pygments_lexer": "ipython3",
   "version": "3.9.12"
  }
 },
 "nbformat": 4,
 "nbformat_minor": 5
}
